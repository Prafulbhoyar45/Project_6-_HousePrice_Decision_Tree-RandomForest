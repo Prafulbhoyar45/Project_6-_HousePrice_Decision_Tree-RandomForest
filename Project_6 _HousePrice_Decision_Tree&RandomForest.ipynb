{
 "cells": [
  {
   "cell_type": "markdown",
   "metadata": {},
   "source": [
    "<table align=\"center\" width=100%>\n",
    "    <tr>\n",
    "        </td>\n",
    "            </td>\n",
    "        </td>\n",
    "        <td>\n",
    "            <div align=\"center\">\n",
    "                <font color=\"#21618C\" size=8px>\n",
    "                    <b> Project - House_Sold\n",
    "                    </b>\n",
    "                </font>\n",
    "            </div>\n",
    "        </td>\n",
    "    </tr>\n",
    "</table>"
   ]
  },
  {
   "cell_type": "markdown",
   "metadata": {},
   "source": [
    "# Problem Statement\n",
    "\n",
    "This dataset is created for the prediction of Hous to be sold or not in next 3 months from an Indian perspective. The dataset contains various features that are important during the application for Architect community. The predicted output obtained from the classification algorithm gives a fair idea about the chances of a House being sold or not."
   ]
  },
  {
   "cell_type": "markdown",
   "metadata": {},
   "source": [
    "# Data Dictionary \n",
    " \n",
    " The Data set contains 506 observations of House Price From Different Towns. Corresponding to each house price,data of other veriables is available on which price is suspected to depend."
   ]
  },
  {
   "cell_type": "markdown",
   "metadata": {},
   "source": [
    "## About the dataset (House Pricing prediction data) \n",
    "\n",
    "**price:** Value of the house \n",
    "\n",
    "**resid_area:** Preporsion of residential area in the town\n",
    "\n",
    "**air_qual:** Quality of Air in that neighborhood\n",
    "\n",
    "**room_num:** Avearge number of rooms in houses of that locality\n",
    "\n",
    "**age:** How old is the house counstuction  in years\n",
    "\n",
    "**dist1:** Distance from employment hub 1\n",
    "\n",
    "**dist2:** Distance from employment hub 2\n",
    "\n",
    "**dist3:** Distance from employment hub 3\n",
    "\n",
    "**dist4:** Distance from employment hub 4\n",
    "\n",
    "**teachers:** Number of Teachers per 1000 population in the town\n",
    "\n",
    "**poor_prop:** Preportion of poor population in the town\n",
    "\n",
    "**airport:** Is there an airport in city? (Yes/No)\n",
    "\n",
    "**n_hos_beds:** Number of Hospital Beds per 1000 population in the town\n",
    "\n",
    "**n_hot_rooms:** Number of Hotel rooms per 1000 population in town\n",
    "\n",
    "**waterbody:** What type of natural fresh water sourcs is there in the city (Lake/River/Both/None)\n",
    "\n",
    "**rainfall:** The yearly average rainfall in centimeters\n",
    "\n",
    "**bus_ter:** Is there a bus terminal in city? (Yes/No)\n",
    "\n",
    "**parks:** Proportion of land assigned as park and green areas in town\n",
    "\n",
    "**Sold:** Is house sold or not (0-No/1-Yes)"
   ]
  },
  {
   "cell_type": "markdown",
   "metadata": {},
   "source": [
    "## Table of Content\n",
    "\n",
    "1. **[Import Libraries](#lib)**\n",
    "2. **[Data Preparation](#prep)**\n",
    "    - 2.1 - **[Read the Data](#read)**\n",
    "    - 2.2 - **[Check the Data Type](#dtype)**\n",
    "    - 2.3 - **[Remove Insignificant Variables](#drop)**\n",
    "    - 2.4 - **[Distribution of Variables](#dist)**\n",
    "    - 2.5 - **[Missing Value Treatment](#null)**\n",
    "    - 2.6 - **[Based on Boxplot](#boxplot)**\n",
    "    - 2.7 - **[Based on IQR](#iqr)**\n",
    "    - 2.8 - **[Dummy Encode the Categorical Variables](#dummy)**\n",
    "    - 2.9 - **[Scale the Data](#scale)**\n",
    "    - 2.10 - **[Train-Test Split](#split)**\n",
    "3. **[Logistic Regression (Full Model)](#logit)**\n",
    "5. **[Coclusion](#result)**"
   ]
  },
  {
   "cell_type": "markdown",
   "metadata": {},
   "source": [
    "<a id=\"lib\"></a>\n",
    "# 1. Import Libraries"
   ]
  },
  {
   "cell_type": "markdown",
   "metadata": {},
   "source": [
    "**Let us import the required libraries.**"
   ]
  },
  {
   "cell_type": "code",
   "execution_count": 1,
   "metadata": {},
   "outputs": [],
   "source": [
    "# import 'Pandas' \n",
    "import pandas as pd \n",
    "\n",
    "# import 'Numpy' \n",
    "import numpy as np\n",
    "\n",
    "# import subpackage of Matplotlib\n",
    "import matplotlib.pyplot as plt\n",
    "\n",
    "# import 'Seaborn' \n",
    "import seaborn as sns\n",
    "\n",
    "# to suppress warnings \n",
    "from warnings import filterwarnings\n",
    "filterwarnings('ignore')\n",
    "\n",
    "# display all columns of the dataframe\n",
    "pd.options.display.max_columns = None\n",
    "\n",
    "# display all rows of the dataframe\n",
    "pd.options.display.max_rows = None\n",
    " \n",
    "# to display the float values upto 6 decimal places     \n",
    "pd.options.display.float_format = '{:.6f}'.format\n",
    "\n",
    "# import train-test split \n",
    "from sklearn.model_selection import train_test_split\n",
    "\n",
    "# import StandardScaler to perform scaling\n",
    "from sklearn.preprocessing import StandardScaler \n",
    "\n",
    "# import various functions from sklearn\n",
    "from sklearn.metrics import classification_report\n",
    "from sklearn.tree import DecisionTreeClassifier\n",
    "from sklearn.ensemble import RandomForestClassifier\n",
    "from sklearn import tree\n",
    "from sklearn.model_selection import GridSearchCV\n",
    "\n",
    "# import the functions for visualizing the decision tree\n",
    "import pydotplus\n",
    "from IPython.display import Image  \n",
    "\n",
    "# import various functions from statsmodels\n",
    "import statsmodels\n",
    "import statsmodels.api as sm\n"
   ]
  },
  {
   "cell_type": "code",
   "execution_count": 2,
   "metadata": {},
   "outputs": [],
   "source": [
    "# set the plot size using 'rcParams'\n",
    "# once the plot size is set using 'rcParams', it sets the size of all the forthcoming plots in the file\n",
    "# pass width and height in inches to 'figure.figsize' \n",
    "plt.rcParams['figure.figsize'] = [15,8]"
   ]
  },
  {
   "cell_type": "markdown",
   "metadata": {},
   "source": [
    "<a id=\"prep\"></a>\n",
    "# 2. Data Preparation"
   ]
  },
  {
   "cell_type": "markdown",
   "metadata": {},
   "source": [
    "<a id=\"read\"></a>\n",
    "## 2.1 Read the Data"
   ]
  },
  {
   "cell_type": "code",
   "execution_count": 3,
   "metadata": {},
   "outputs": [
    {
     "data": {
      "text/html": [
       "<div>\n",
       "<style scoped>\n",
       "    .dataframe tbody tr th:only-of-type {\n",
       "        vertical-align: middle;\n",
       "    }\n",
       "\n",
       "    .dataframe tbody tr th {\n",
       "        vertical-align: top;\n",
       "    }\n",
       "\n",
       "    .dataframe thead th {\n",
       "        text-align: right;\n",
       "    }\n",
       "</style>\n",
       "<table border=\"1\" class=\"dataframe\">\n",
       "  <thead>\n",
       "    <tr style=\"text-align: right;\">\n",
       "      <th></th>\n",
       "      <th>price</th>\n",
       "      <th>resid_area</th>\n",
       "      <th>air_qual</th>\n",
       "      <th>room_num</th>\n",
       "      <th>age</th>\n",
       "      <th>dist1</th>\n",
       "      <th>dist2</th>\n",
       "      <th>dist3</th>\n",
       "      <th>dist4</th>\n",
       "      <th>teachers</th>\n",
       "      <th>poor_prop</th>\n",
       "      <th>airport</th>\n",
       "      <th>n_hos_beds</th>\n",
       "      <th>n_hot_rooms</th>\n",
       "      <th>waterbody</th>\n",
       "      <th>rainfall</th>\n",
       "      <th>bus_ter</th>\n",
       "      <th>parks</th>\n",
       "      <th>Sold</th>\n",
       "    </tr>\n",
       "  </thead>\n",
       "  <tbody>\n",
       "    <tr>\n",
       "      <th>0</th>\n",
       "      <td>24.000000</td>\n",
       "      <td>32.310000</td>\n",
       "      <td>0.538000</td>\n",
       "      <td>6.575000</td>\n",
       "      <td>65.200000</td>\n",
       "      <td>4.350000</td>\n",
       "      <td>3.810000</td>\n",
       "      <td>4.180000</td>\n",
       "      <td>4.010000</td>\n",
       "      <td>24.700000</td>\n",
       "      <td>4.980000</td>\n",
       "      <td>YES</td>\n",
       "      <td>5.480000</td>\n",
       "      <td>11.192000</td>\n",
       "      <td>River</td>\n",
       "      <td>23</td>\n",
       "      <td>YES</td>\n",
       "      <td>0.049347</td>\n",
       "      <td>0</td>\n",
       "    </tr>\n",
       "    <tr>\n",
       "      <th>1</th>\n",
       "      <td>21.600000</td>\n",
       "      <td>37.070000</td>\n",
       "      <td>0.469000</td>\n",
       "      <td>6.421000</td>\n",
       "      <td>78.900000</td>\n",
       "      <td>4.990000</td>\n",
       "      <td>4.700000</td>\n",
       "      <td>5.120000</td>\n",
       "      <td>5.060000</td>\n",
       "      <td>22.200000</td>\n",
       "      <td>9.140000</td>\n",
       "      <td>NO</td>\n",
       "      <td>7.332000</td>\n",
       "      <td>12.172800</td>\n",
       "      <td>Lake</td>\n",
       "      <td>42</td>\n",
       "      <td>YES</td>\n",
       "      <td>0.046146</td>\n",
       "      <td>1</td>\n",
       "    </tr>\n",
       "    <tr>\n",
       "      <th>2</th>\n",
       "      <td>34.700000</td>\n",
       "      <td>37.070000</td>\n",
       "      <td>0.469000</td>\n",
       "      <td>7.185000</td>\n",
       "      <td>61.100000</td>\n",
       "      <td>5.030000</td>\n",
       "      <td>4.860000</td>\n",
       "      <td>5.010000</td>\n",
       "      <td>4.970000</td>\n",
       "      <td>22.200000</td>\n",
       "      <td>4.030000</td>\n",
       "      <td>NO</td>\n",
       "      <td>7.394000</td>\n",
       "      <td>101.120000</td>\n",
       "      <td>None</td>\n",
       "      <td>38</td>\n",
       "      <td>YES</td>\n",
       "      <td>0.045764</td>\n",
       "      <td>0</td>\n",
       "    </tr>\n",
       "    <tr>\n",
       "      <th>3</th>\n",
       "      <td>33.400000</td>\n",
       "      <td>32.180000</td>\n",
       "      <td>0.458000</td>\n",
       "      <td>6.998000</td>\n",
       "      <td>45.800000</td>\n",
       "      <td>6.210000</td>\n",
       "      <td>5.930000</td>\n",
       "      <td>6.160000</td>\n",
       "      <td>5.960000</td>\n",
       "      <td>21.300000</td>\n",
       "      <td>2.940000</td>\n",
       "      <td>YES</td>\n",
       "      <td>9.268000</td>\n",
       "      <td>11.267200</td>\n",
       "      <td>Lake</td>\n",
       "      <td>45</td>\n",
       "      <td>YES</td>\n",
       "      <td>0.047151</td>\n",
       "      <td>0</td>\n",
       "    </tr>\n",
       "    <tr>\n",
       "      <th>4</th>\n",
       "      <td>36.200000</td>\n",
       "      <td>32.180000</td>\n",
       "      <td>0.458000</td>\n",
       "      <td>7.147000</td>\n",
       "      <td>54.200000</td>\n",
       "      <td>6.160000</td>\n",
       "      <td>5.860000</td>\n",
       "      <td>6.370000</td>\n",
       "      <td>5.860000</td>\n",
       "      <td>21.300000</td>\n",
       "      <td>5.330000</td>\n",
       "      <td>NO</td>\n",
       "      <td>8.824000</td>\n",
       "      <td>11.289600</td>\n",
       "      <td>Lake</td>\n",
       "      <td>55</td>\n",
       "      <td>YES</td>\n",
       "      <td>0.039474</td>\n",
       "      <td>0</td>\n",
       "    </tr>\n",
       "  </tbody>\n",
       "</table>\n",
       "</div>"
      ],
      "text/plain": [
       "      price  resid_area  air_qual  room_num       age    dist1    dist2  \\\n",
       "0 24.000000   32.310000  0.538000  6.575000 65.200000 4.350000 3.810000   \n",
       "1 21.600000   37.070000  0.469000  6.421000 78.900000 4.990000 4.700000   \n",
       "2 34.700000   37.070000  0.469000  7.185000 61.100000 5.030000 4.860000   \n",
       "3 33.400000   32.180000  0.458000  6.998000 45.800000 6.210000 5.930000   \n",
       "4 36.200000   32.180000  0.458000  7.147000 54.200000 6.160000 5.860000   \n",
       "\n",
       "     dist3    dist4  teachers  poor_prop airport  n_hos_beds  n_hot_rooms  \\\n",
       "0 4.180000 4.010000 24.700000   4.980000     YES    5.480000    11.192000   \n",
       "1 5.120000 5.060000 22.200000   9.140000      NO    7.332000    12.172800   \n",
       "2 5.010000 4.970000 22.200000   4.030000      NO    7.394000   101.120000   \n",
       "3 6.160000 5.960000 21.300000   2.940000     YES    9.268000    11.267200   \n",
       "4 6.370000 5.860000 21.300000   5.330000      NO    8.824000    11.289600   \n",
       "\n",
       "  waterbody  rainfall bus_ter    parks  Sold  \n",
       "0     River        23     YES 0.049347     0  \n",
       "1      Lake        42     YES 0.046146     1  \n",
       "2      None        38     YES 0.045764     0  \n",
       "3      Lake        45     YES 0.047151     0  \n",
       "4      Lake        55     YES 0.039474     0  "
      ]
     },
     "execution_count": 3,
     "metadata": {},
     "output_type": "execute_result"
    }
   ],
   "source": [
    "# load the csv file\n",
    "# store the data in 'df_houseprice'\n",
    "df_houseprice = pd.read_csv(\"C:/Users/abc/Desktop/Linnear Model on R/Data Files/Logistic Reg Dataset/House-Price.csv\")\n",
    "\n",
    "# display first five observations using head()\n",
    "df_houseprice.head()"
   ]
  },
  {
   "cell_type": "markdown",
   "metadata": {},
   "source": [
    "**Let us now see the number of variables and observations in the data.**"
   ]
  },
  {
   "cell_type": "code",
   "execution_count": 4,
   "metadata": {},
   "outputs": [
    {
     "data": {
      "text/plain": [
       "(506, 19)"
      ]
     },
     "execution_count": 4,
     "metadata": {},
     "output_type": "execute_result"
    }
   ],
   "source": [
    "# use 'shape' to check the dimension of data\n",
    "df_houseprice.shape"
   ]
  },
  {
   "cell_type": "markdown",
   "metadata": {},
   "source": [
    "**Interpretation:** The data has 506 observations and 19 variables."
   ]
  },
  {
   "cell_type": "markdown",
   "metadata": {},
   "source": [
    "<a id=\"dtype\"></a>\n",
    "## 2.2 Check the Data Type"
   ]
  },
  {
   "cell_type": "code",
   "execution_count": 5,
   "metadata": {},
   "outputs": [
    {
     "data": {
      "text/plain": [
       "price          float64\n",
       "resid_area     float64\n",
       "air_qual       float64\n",
       "room_num       float64\n",
       "age            float64\n",
       "dist1          float64\n",
       "dist2          float64\n",
       "dist3          float64\n",
       "dist4          float64\n",
       "teachers       float64\n",
       "poor_prop      float64\n",
       "airport         object\n",
       "n_hos_beds     float64\n",
       "n_hot_rooms    float64\n",
       "waterbody       object\n",
       "rainfall         int64\n",
       "bus_ter         object\n",
       "parks          float64\n",
       "Sold             int64\n",
       "dtype: object"
      ]
     },
     "execution_count": 5,
     "metadata": {},
     "output_type": "execute_result"
    }
   ],
   "source": [
    "# use 'dtypes' to check the data type of a variable\n",
    "df_houseprice.dtypes"
   ]
  },
  {
   "cell_type": "markdown",
   "metadata": {},
   "source": [
    "**Interpretation:** The variables `price`, `Sold`, `resid_area`, `air_qual`, `room_num`, `age`,\n",
    "    `dist1`, `dist2`, `dist3`, `dist4`, `teachers`, `poor_prop`,`n_hos_beds`, `n_hot_rooms`, `rainfall`,`parks` are numerical.\n",
    "\n",
    "From the above output, we see that the data type of `bus_ter`,`waterbody`, `airport` are the 'Catagorical'.\n",
    "\n",
    "And all veriables in Correct Datatypes"
   ]
  },
  {
   "cell_type": "markdown",
   "metadata": {},
   "source": [
    "<a id=\"drop\"></a>\n",
    "## 2.3 Remove Insignificant Variables"
   ]
  },
  {
   "cell_type": "code",
   "execution_count": 6,
   "metadata": {},
   "outputs": [
    {
     "data": {
      "text/html": [
       "<div>\n",
       "<style scoped>\n",
       "    .dataframe tbody tr th:only-of-type {\n",
       "        vertical-align: middle;\n",
       "    }\n",
       "\n",
       "    .dataframe tbody tr th {\n",
       "        vertical-align: top;\n",
       "    }\n",
       "\n",
       "    .dataframe thead th {\n",
       "        text-align: right;\n",
       "    }\n",
       "</style>\n",
       "<table border=\"1\" class=\"dataframe\">\n",
       "  <thead>\n",
       "    <tr style=\"text-align: right;\">\n",
       "      <th></th>\n",
       "      <th>airport</th>\n",
       "      <th>waterbody</th>\n",
       "      <th>bus_ter</th>\n",
       "    </tr>\n",
       "  </thead>\n",
       "  <tbody>\n",
       "    <tr>\n",
       "      <th>0</th>\n",
       "      <td>YES</td>\n",
       "      <td>River</td>\n",
       "      <td>YES</td>\n",
       "    </tr>\n",
       "    <tr>\n",
       "      <th>1</th>\n",
       "      <td>NO</td>\n",
       "      <td>Lake</td>\n",
       "      <td>YES</td>\n",
       "    </tr>\n",
       "    <tr>\n",
       "      <th>2</th>\n",
       "      <td>NO</td>\n",
       "      <td>None</td>\n",
       "      <td>YES</td>\n",
       "    </tr>\n",
       "    <tr>\n",
       "      <th>3</th>\n",
       "      <td>YES</td>\n",
       "      <td>Lake</td>\n",
       "      <td>YES</td>\n",
       "    </tr>\n",
       "    <tr>\n",
       "      <th>4</th>\n",
       "      <td>NO</td>\n",
       "      <td>Lake</td>\n",
       "      <td>YES</td>\n",
       "    </tr>\n",
       "  </tbody>\n",
       "</table>\n",
       "</div>"
      ],
      "text/plain": [
       "  airport waterbody bus_ter\n",
       "0     YES     River     YES\n",
       "1      NO      Lake     YES\n",
       "2      NO      None     YES\n",
       "3     YES      Lake     YES\n",
       "4      NO      Lake     YES"
      ]
     },
     "execution_count": 6,
     "metadata": {},
     "output_type": "execute_result"
    }
   ],
   "source": [
    "# First Check Catagorical Columns\n",
    "df_cat = df_houseprice.select_dtypes(include=[np.object])\n",
    "df_cat.head()"
   ]
  },
  {
   "cell_type": "code",
   "execution_count": 7,
   "metadata": {},
   "outputs": [
    {
     "data": {
      "image/png": "[encoded data removed]",
      "text/plain": [
       "<Figure size 1080x360 with 3 Axes>"
      ]
     },
     "metadata": {
      "needs_background": "light"
     },
     "output_type": "display_data"
    }
   ],
   "source": [
    "# Plot Subplots to Descover the Catagorical Veriables\n",
    "fig,axes = plt.subplots(1,3,figsize = (15,5))\n",
    "sns.countplot(df_cat.bus_ter,color = \"g\",ax = axes[0])\n",
    "sns.countplot(df_cat.waterbody,color = \"g\",ax = axes[1])\n",
    "sns.countplot(df_cat.airport,color = \"g\",ax = axes[2])\n",
    "plt.show()"
   ]
  },
  {
   "cell_type": "code",
   "execution_count": 8,
   "metadata": {},
   "outputs": [],
   "source": [
    "# So as we see here Bus_ter column have only one unique value that means it wont usefull for our analysis\n",
    "# Axis  = 1  use for column 0 for row\n",
    "# inplace = True indecate permanat changes\n",
    "df_houseprice.drop(\"bus_ter\",axis =1,inplace = True)"
   ]
  },
  {
   "cell_type": "code",
   "execution_count": 9,
   "metadata": {},
   "outputs": [
    {
     "data": {
      "image/png": "[encoded data removed]",
      "text/plain": [
       "<Figure size 1080x576 with 2 Axes>"
      ]
     },
     "metadata": {
      "needs_background": "light"
     },
     "output_type": "display_data"
    }
   ],
   "source": [
    "sns.heatmap(df_houseprice.corr(),annot = True,color = 'r')\n",
    "plt.show()"
   ]
  },
  {
   "cell_type": "markdown",
   "metadata": {},
   "source": [
    "**Interpretation:** The column `bus_ter` contains the serial number of the student, which is redundant for further analysis, Thus, we drop the column.\n",
    "other than this we cant find any column to be unusable for our analysis."
   ]
  },
  {
   "cell_type": "markdown",
   "metadata": {},
   "source": [
    "<a id=\"dist\"></a>\n",
    "## 2.4 Distribution of Variables"
   ]
  },
  {
   "cell_type": "markdown",
   "metadata": {},
   "source": [
    "**Distribution of numeric independent variables.**"
   ]
  },
  {
   "cell_type": "code",
   "execution_count": 10,
   "metadata": {},
   "outputs": [
    {
     "data": {
      "image/png": "[encoded data removed]",
      "text/plain": [
       "<Figure size 1080x576 with 16 Axes>"
      ]
     },
     "metadata": {
      "needs_background": "light"
     },
     "output_type": "display_data"
    },
    {
     "name": "stdout",
     "output_type": "stream",
     "text": [
      "Skewness:\n"
     ]
    },
    {
     "data": {
      "text/plain": [
       "resid_area     0.295022\n",
       "air_qual       0.729308\n",
       "room_num       0.403612\n",
       "age           -0.598963\n",
       "dist1          1.010577\n",
       "dist2          1.007492\n",
       "dist3          1.003848\n",
       "dist4          1.004680\n",
       "teachers       0.802325\n",
       "poor_prop      0.906460\n",
       "n_hos_beds    -0.009176\n",
       "n_hot_rooms   13.790552\n",
       "rainfall       0.012971\n",
       "parks          0.533991\n",
       "Sold           0.183117\n",
       "dtype: float64"
      ]
     },
     "execution_count": 10,
     "metadata": {},
     "output_type": "execute_result"
    }
   ],
   "source": [
    "# for the independent numeric variables, we plot the histogram to check the distribution of the variables\n",
    "# Note: the hist() function considers the numeric variables only, by default\n",
    "# we drop the target variable using drop()\n",
    "# 'axis=1' drops the specified column\n",
    "df_houseprice.drop('price', axis = 1).hist(color = \"g\")\n",
    "\n",
    "# adjust the subplots\n",
    "plt.tight_layout()\n",
    "\n",
    "# display the plot\n",
    "plt.show()  \n",
    "\n",
    "# print the skewness for each numeric independent variable\n",
    "print('Skewness:')\n",
    "# we drop the target variable using drop()\n",
    "# 'axis=1' drops the specified column\n",
    "# skew() returns the coefficient of skewness for each variable\n",
    "df_houseprice.drop('price', axis = 1).skew()"
   ]
  },
  {
   "cell_type": "markdown",
   "metadata": {},
   "source": [
    "**Interpretation:** The above plot indicates that all the variables are not that much but slight normally distributed."
   ]
  },
  {
   "cell_type": "markdown",
   "metadata": {},
   "source": [
    "<a id=\"null\"></a>\n",
    "## 2.5 Missing Value Treatment"
   ]
  },
  {
   "cell_type": "markdown",
   "metadata": {},
   "source": [
    "First run a check for the presence of missing values and their percentage for each column. Then choose the right approach to treat them."
   ]
  },
  {
   "cell_type": "code",
   "execution_count": 11,
   "metadata": {},
   "outputs": [
    {
     "data": {
      "text/html": [
       "<div>\n",
       "<style scoped>\n",
       "    .dataframe tbody tr th:only-of-type {\n",
       "        vertical-align: middle;\n",
       "    }\n",
       "\n",
       "    .dataframe tbody tr th {\n",
       "        vertical-align: top;\n",
       "    }\n",
       "\n",
       "    .dataframe thead th {\n",
       "        text-align: right;\n",
       "    }\n",
       "</style>\n",
       "<table border=\"1\" class=\"dataframe\">\n",
       "  <thead>\n",
       "    <tr style=\"text-align: right;\">\n",
       "      <th></th>\n",
       "      <th>Total</th>\n",
       "      <th>Percentage of Missing Values</th>\n",
       "    </tr>\n",
       "  </thead>\n",
       "  <tbody>\n",
       "    <tr>\n",
       "      <th>n_hos_beds</th>\n",
       "      <td>8</td>\n",
       "      <td>1.581028</td>\n",
       "    </tr>\n",
       "    <tr>\n",
       "      <th>Sold</th>\n",
       "      <td>0</td>\n",
       "      <td>0.000000</td>\n",
       "    </tr>\n",
       "    <tr>\n",
       "      <th>dist3</th>\n",
       "      <td>0</td>\n",
       "      <td>0.000000</td>\n",
       "    </tr>\n",
       "    <tr>\n",
       "      <th>resid_area</th>\n",
       "      <td>0</td>\n",
       "      <td>0.000000</td>\n",
       "    </tr>\n",
       "    <tr>\n",
       "      <th>air_qual</th>\n",
       "      <td>0</td>\n",
       "      <td>0.000000</td>\n",
       "    </tr>\n",
       "    <tr>\n",
       "      <th>room_num</th>\n",
       "      <td>0</td>\n",
       "      <td>0.000000</td>\n",
       "    </tr>\n",
       "    <tr>\n",
       "      <th>age</th>\n",
       "      <td>0</td>\n",
       "      <td>0.000000</td>\n",
       "    </tr>\n",
       "    <tr>\n",
       "      <th>dist1</th>\n",
       "      <td>0</td>\n",
       "      <td>0.000000</td>\n",
       "    </tr>\n",
       "    <tr>\n",
       "      <th>dist2</th>\n",
       "      <td>0</td>\n",
       "      <td>0.000000</td>\n",
       "    </tr>\n",
       "    <tr>\n",
       "      <th>dist4</th>\n",
       "      <td>0</td>\n",
       "      <td>0.000000</td>\n",
       "    </tr>\n",
       "    <tr>\n",
       "      <th>parks</th>\n",
       "      <td>0</td>\n",
       "      <td>0.000000</td>\n",
       "    </tr>\n",
       "    <tr>\n",
       "      <th>teachers</th>\n",
       "      <td>0</td>\n",
       "      <td>0.000000</td>\n",
       "    </tr>\n",
       "    <tr>\n",
       "      <th>poor_prop</th>\n",
       "      <td>0</td>\n",
       "      <td>0.000000</td>\n",
       "    </tr>\n",
       "    <tr>\n",
       "      <th>airport</th>\n",
       "      <td>0</td>\n",
       "      <td>0.000000</td>\n",
       "    </tr>\n",
       "    <tr>\n",
       "      <th>n_hot_rooms</th>\n",
       "      <td>0</td>\n",
       "      <td>0.000000</td>\n",
       "    </tr>\n",
       "    <tr>\n",
       "      <th>waterbody</th>\n",
       "      <td>0</td>\n",
       "      <td>0.000000</td>\n",
       "    </tr>\n",
       "    <tr>\n",
       "      <th>rainfall</th>\n",
       "      <td>0</td>\n",
       "      <td>0.000000</td>\n",
       "    </tr>\n",
       "    <tr>\n",
       "      <th>price</th>\n",
       "      <td>0</td>\n",
       "      <td>0.000000</td>\n",
       "    </tr>\n",
       "  </tbody>\n",
       "</table>\n",
       "</div>"
      ],
      "text/plain": [
       "             Total  Percentage of Missing Values\n",
       "n_hos_beds       8                      1.581028\n",
       "Sold             0                      0.000000\n",
       "dist3            0                      0.000000\n",
       "resid_area       0                      0.000000\n",
       "air_qual         0                      0.000000\n",
       "room_num         0                      0.000000\n",
       "age              0                      0.000000\n",
       "dist1            0                      0.000000\n",
       "dist2            0                      0.000000\n",
       "dist4            0                      0.000000\n",
       "parks            0                      0.000000\n",
       "teachers         0                      0.000000\n",
       "poor_prop        0                      0.000000\n",
       "airport          0                      0.000000\n",
       "n_hot_rooms      0                      0.000000\n",
       "waterbody        0                      0.000000\n",
       "rainfall         0                      0.000000\n",
       "price            0                      0.000000"
      ]
     },
     "execution_count": 11,
     "metadata": {},
     "output_type": "execute_result"
    }
   ],
   "source": [
    "# sort the variables on the basis of total null values in the variable\n",
    "# 'isnull().sum()' returns the number of missing values in each variable\n",
    "# 'ascending = False' sorts values in the descending order\n",
    "# the variable with highest number of missing values will appear first\n",
    "Total = df_houseprice.isnull().sum().sort_values(ascending=False)          \n",
    "\n",
    "# calculate percentage of missing values\n",
    "# 'ascending = False' sorts values in the descending order\n",
    "# the variable with highest percentage of missing values will appear first\n",
    "Percent = (df_houseprice.isnull().sum()*100/df_houseprice.isnull().count()).sort_values(ascending=False)   \n",
    "\n",
    "# concat the 'Total' and 'Percent' columns using 'concat' function\n",
    "# pass a list of column names in parameter 'keys' \n",
    "# 'axis = 1' concats along the columns\n",
    "missing_data = pd.concat([Total, Percent], axis = 1, keys = ['Total', 'Percentage of Missing Values'])    \n",
    "missing_data"
   ]
  },
  {
   "cell_type": "markdown",
   "metadata": {},
   "source": [
    "So as wee see in `n_hos_beds` contain `8` missing values and the percentage of missing value is `1.581028 %` that meanse its small amout of data so we can replace it with average of that veriable"
   ]
  },
  {
   "cell_type": "code",
   "execution_count": 12,
   "metadata": {},
   "outputs": [],
   "source": [
    "df_houseprice.fillna(df_houseprice[\"n_hos_beds\"].mean(),inplace=True)"
   ]
  },
  {
   "cell_type": "code",
   "execution_count": 13,
   "metadata": {},
   "outputs": [
    {
     "data": {
      "text/html": [
       "<div>\n",
       "<style scoped>\n",
       "    .dataframe tbody tr th:only-of-type {\n",
       "        vertical-align: middle;\n",
       "    }\n",
       "\n",
       "    .dataframe tbody tr th {\n",
       "        vertical-align: top;\n",
       "    }\n",
       "\n",
       "    .dataframe thead th {\n",
       "        text-align: right;\n",
       "    }\n",
       "</style>\n",
       "<table border=\"1\" class=\"dataframe\">\n",
       "  <thead>\n",
       "    <tr style=\"text-align: right;\">\n",
       "      <th></th>\n",
       "      <th>Total</th>\n",
       "      <th>Percentage of Missing Values</th>\n",
       "    </tr>\n",
       "  </thead>\n",
       "  <tbody>\n",
       "    <tr>\n",
       "      <th>Sold</th>\n",
       "      <td>0</td>\n",
       "      <td>0.000000</td>\n",
       "    </tr>\n",
       "    <tr>\n",
       "      <th>parks</th>\n",
       "      <td>0</td>\n",
       "      <td>0.000000</td>\n",
       "    </tr>\n",
       "    <tr>\n",
       "      <th>resid_area</th>\n",
       "      <td>0</td>\n",
       "      <td>0.000000</td>\n",
       "    </tr>\n",
       "    <tr>\n",
       "      <th>air_qual</th>\n",
       "      <td>0</td>\n",
       "      <td>0.000000</td>\n",
       "    </tr>\n",
       "    <tr>\n",
       "      <th>room_num</th>\n",
       "      <td>0</td>\n",
       "      <td>0.000000</td>\n",
       "    </tr>\n",
       "    <tr>\n",
       "      <th>age</th>\n",
       "      <td>0</td>\n",
       "      <td>0.000000</td>\n",
       "    </tr>\n",
       "    <tr>\n",
       "      <th>dist1</th>\n",
       "      <td>0</td>\n",
       "      <td>0.000000</td>\n",
       "    </tr>\n",
       "    <tr>\n",
       "      <th>dist2</th>\n",
       "      <td>0</td>\n",
       "      <td>0.000000</td>\n",
       "    </tr>\n",
       "    <tr>\n",
       "      <th>dist3</th>\n",
       "      <td>0</td>\n",
       "      <td>0.000000</td>\n",
       "    </tr>\n",
       "    <tr>\n",
       "      <th>dist4</th>\n",
       "      <td>0</td>\n",
       "      <td>0.000000</td>\n",
       "    </tr>\n",
       "    <tr>\n",
       "      <th>teachers</th>\n",
       "      <td>0</td>\n",
       "      <td>0.000000</td>\n",
       "    </tr>\n",
       "    <tr>\n",
       "      <th>poor_prop</th>\n",
       "      <td>0</td>\n",
       "      <td>0.000000</td>\n",
       "    </tr>\n",
       "    <tr>\n",
       "      <th>airport</th>\n",
       "      <td>0</td>\n",
       "      <td>0.000000</td>\n",
       "    </tr>\n",
       "    <tr>\n",
       "      <th>n_hos_beds</th>\n",
       "      <td>0</td>\n",
       "      <td>0.000000</td>\n",
       "    </tr>\n",
       "    <tr>\n",
       "      <th>n_hot_rooms</th>\n",
       "      <td>0</td>\n",
       "      <td>0.000000</td>\n",
       "    </tr>\n",
       "    <tr>\n",
       "      <th>waterbody</th>\n",
       "      <td>0</td>\n",
       "      <td>0.000000</td>\n",
       "    </tr>\n",
       "    <tr>\n",
       "      <th>rainfall</th>\n",
       "      <td>0</td>\n",
       "      <td>0.000000</td>\n",
       "    </tr>\n",
       "    <tr>\n",
       "      <th>price</th>\n",
       "      <td>0</td>\n",
       "      <td>0.000000</td>\n",
       "    </tr>\n",
       "  </tbody>\n",
       "</table>\n",
       "</div>"
      ],
      "text/plain": [
       "             Total  Percentage of Missing Values\n",
       "Sold             0                      0.000000\n",
       "parks            0                      0.000000\n",
       "resid_area       0                      0.000000\n",
       "air_qual         0                      0.000000\n",
       "room_num         0                      0.000000\n",
       "age              0                      0.000000\n",
       "dist1            0                      0.000000\n",
       "dist2            0                      0.000000\n",
       "dist3            0                      0.000000\n",
       "dist4            0                      0.000000\n",
       "teachers         0                      0.000000\n",
       "poor_prop        0                      0.000000\n",
       "airport          0                      0.000000\n",
       "n_hos_beds       0                      0.000000\n",
       "n_hot_rooms      0                      0.000000\n",
       "waterbody        0                      0.000000\n",
       "rainfall         0                      0.000000\n",
       "price            0                      0.000000"
      ]
     },
     "execution_count": 13,
     "metadata": {},
     "output_type": "execute_result"
    }
   ],
   "source": [
    "# sort the variables on the basis of total null values in the variable\n",
    "# 'isnull().sum()' returns the number of missing values in each variable\n",
    "# 'ascending = False' sorts values in the descending order\n",
    "# the variable with highest number of missing values will appear first\n",
    "Total = df_houseprice.isnull().sum().sort_values(ascending=False)          \n",
    "\n",
    "# calculate percentage of missing values\n",
    "# 'ascending = False' sorts values in the descending order\n",
    "# the variable with highest percentage of missing values will appear first\n",
    "Percent = (df_houseprice.isnull().sum()*100/df_houseprice.isnull().count()).sort_values(ascending=False)   \n",
    "\n",
    "# concat the 'Total' and 'Percent' columns using 'concat' function\n",
    "# pass a list of column names in parameter 'keys' \n",
    "# 'axis = 1' concats along the columns\n",
    "missing_data = pd.concat([Total, Percent], axis = 1, keys = ['Total', 'Percentage of Missing Values'])    \n",
    "missing_data"
   ]
  },
  {
   "cell_type": "markdown",
   "metadata": {},
   "source": [
    "**Interpretation:** The above output shows that there are no missing values in the data."
   ]
  },
  {
   "cell_type": "markdown",
   "metadata": {},
   "source": [
    "<a id=\"boxplot\"></a>\n",
    "## 2.6 Based on Boxplots:\n",
    "\n",
    "The boxplot() in seaborn plots a box plot of the specified data. The box represents the quartiles of the data while the whiskers extend to show the rest of the distribution. The points that are determined to be outliers are identified using  the interquartile range (IQR) method.\n",
    "\n",
    "The next section deals with IQR method."
   ]
  },
  {
   "cell_type": "code",
   "execution_count": 14,
   "metadata": {},
   "outputs": [
    {
     "data": {
      "image/png": "[encoded data removed]",
      "text/plain": [
       "<Figure size 1080x576 with 6 Axes>"
      ]
     },
     "metadata": {
      "needs_background": "light"
     },
     "output_type": "display_data"
    }
   ],
   "source": [
    "df_num = df_houseprice.select_dtypes(include=[np.number])\n",
    "# Now Check Numirical Veriables\n",
    "# plot the boxplot for each variable\n",
    "# subplots(): plot subplots\n",
    "# figsize(): set the figure size\n",
    "fig, ax = plt.subplots(2, 3, figsize=(15, 8))\n",
    "\n",
    "# plot the boxplot using boxplot() from seaborn\n",
    "# z: let the variable z define the boxplot\n",
    "# x: data for which the boxplot is to be plotted\n",
    "# orient: \"h\" specifies horizontal boxplot (for vertical boxplots use \"v\")\n",
    "# whis: proportion of the IQR past the low and high quartiles to extend the plot whiskers\n",
    "# ax: specifies the axes object to draw the plot onto\n",
    "# set_xlabel(): set the x-axis label\n",
    "# fontsize: sets the font size of the x-axis label\n",
    "for variable, subplot in zip(df_num.columns, ax.flatten()):\n",
    "    z = sns.boxplot(x = df_num[variable], orient = \"h\",whis=1.5 , ax=subplot) # plot the boxplot\n",
    "    z.set_xlabel(variable, fontsize = 20)                                     # set the x-axis label"
   ]
  },
  {
   "cell_type": "markdown",
   "metadata": {},
   "source": [
    "**Interpretation:** Out of the six numeric variables, variables `room_num`, `dist1` and `price` have outliers."
   ]
  },
  {
   "cell_type": "markdown",
   "metadata": {},
   "source": [
    "<a id=\"iqr\"></a>\n",
    "## 2.7 Based on IQR"
   ]
  },
  {
   "cell_type": "markdown",
   "metadata": {},
   "source": [
    "The IQR method can be used when the data distribution in non-normal. Also the quartiles are less affected by the extreme values."
   ]
  },
  {
   "cell_type": "code",
   "execution_count": 15,
   "metadata": {},
   "outputs": [
    {
     "name": "stdout",
     "output_type": "stream",
     "text": [
      "3.0974999999999997\n"
     ]
    }
   ],
   "source": [
    "# obtain the first quartile\n",
    "Q1 = df_num.dist1.quantile(0.25)\n",
    "\n",
    "# obtain the third quartile\n",
    "Q3 = df_num.dist1.quantile(0.75)\n",
    "\n",
    "# obtain the IQR\n",
    "IQR = Q3 - Q1\n",
    "\n",
    "# print the IQR\n",
    "print(IQR)\n",
    "df_num = df_num[~((df_num.dist1 < (Q1 - 1.5 * IQR)) |(df_num.dist1 > (Q3 + 1.5 * IQR)))]"
   ]
  },
  {
   "cell_type": "code",
   "execution_count": 16,
   "metadata": {},
   "outputs": [
    {
     "name": "stdout",
     "output_type": "stream",
     "text": [
      "0.7379999999999995\n"
     ]
    }
   ],
   "source": [
    "# obtain the first quartile\n",
    "Q1 = df_num.room_num.quantile(0.25)\n",
    "\n",
    "# obtain the third quartile\n",
    "Q3 = df_num.room_num.quantile(0.75)\n",
    "\n",
    "# obtain the IQR\n",
    "IQR = Q3 - Q1\n",
    "\n",
    "# print the IQR\n",
    "print(IQR)\n",
    "df_num = df_num[~((df_num.room_num < (Q1 - 1.5 * IQR)) |(df_num.room_num > (Q3 + 1.5 * IQR)))]"
   ]
  },
  {
   "cell_type": "code",
   "execution_count": 17,
   "metadata": {},
   "outputs": [
    {
     "data": {
      "image/png": "[encoded data removed]",
      "text/plain": [
       "<Figure size 1080x576 with 6 Axes>"
      ]
     },
     "metadata": {
      "needs_background": "light"
     },
     "output_type": "display_data"
    }
   ],
   "source": [
    "# Now Check Numirical Veriables\n",
    "# plot the boxplot for each variable\n",
    "# subplots(): plot subplots\n",
    "# figsize(): set the figure size\n",
    "fig, ax = plt.subplots(2, 3, figsize=(15, 8))\n",
    "\n",
    "# plot the boxplot using boxplot() from seaborn\n",
    "# z: let the variable z define the boxplot\n",
    "# x: data for which the boxplot is to be plotted\n",
    "# orient: \"h\" specifies horizontal boxplot (for vertical boxplots use \"v\")\n",
    "# whis: proportion of the IQR past the low and high quartiles to extend the plot whiskers\n",
    "# ax: specifies the axes object to draw the plot onto\n",
    "# set_xlabel(): set the x-axis label\n",
    "# fontsize: sets the font size of the x-axis label\n",
    "for variable, subplot in zip(df_num.columns, ax.flatten()):\n",
    "    z = sns.boxplot(x = df_num[variable], orient = \"h\",whis=1.5 , ax=subplot) # plot the boxplot\n",
    "    z.set_xlabel(variable, fontsize = 20)                                     # set the x-axis label"
   ]
  },
  {
   "cell_type": "markdown",
   "metadata": {},
   "source": [
    "<a id=\"dummy\"></a>\n",
    "## 2.8 Dummy Encode the Categorical Variables"
   ]
  },
  {
   "cell_type": "markdown",
   "metadata": {},
   "source": [
    "#### Split the dependent and independent variables."
   ]
  },
  {
   "cell_type": "code",
   "execution_count": 18,
   "metadata": {},
   "outputs": [],
   "source": [
    "# store the target variable 'Chance of Admit' in a dataframe 'df_target'\n",
    "df_target = df_houseprice['Sold']\n",
    "\n",
    "# store all the independent variables in a dataframe 'df_feature'\n",
    "# drop the column 'Chance of Admit' using drop()\n",
    "# 'axis = 1' drops the specified column\n",
    "df_feature = df_houseprice.drop('price', axis = 1)"
   ]
  },
  {
   "cell_type": "markdown",
   "metadata": {},
   "source": [
    "#### Filter numerical and categorical variables."
   ]
  },
  {
   "cell_type": "code",
   "execution_count": 20,
   "metadata": {},
   "outputs": [
    {
     "data": {
      "text/html": [
       "<div>\n",
       "<style scoped>\n",
       "    .dataframe tbody tr th:only-of-type {\n",
       "        vertical-align: middle;\n",
       "    }\n",
       "\n",
       "    .dataframe tbody tr th {\n",
       "        vertical-align: top;\n",
       "    }\n",
       "\n",
       "    .dataframe thead th {\n",
       "        text-align: right;\n",
       "    }\n",
       "</style>\n",
       "<table border=\"1\" class=\"dataframe\">\n",
       "  <thead>\n",
       "    <tr style=\"text-align: right;\">\n",
       "      <th></th>\n",
       "      <th>resid_area</th>\n",
       "      <th>air_qual</th>\n",
       "      <th>room_num</th>\n",
       "      <th>age</th>\n",
       "      <th>dist1</th>\n",
       "      <th>dist2</th>\n",
       "      <th>dist3</th>\n",
       "      <th>dist4</th>\n",
       "      <th>teachers</th>\n",
       "      <th>poor_prop</th>\n",
       "      <th>n_hos_beds</th>\n",
       "      <th>n_hot_rooms</th>\n",
       "      <th>rainfall</th>\n",
       "      <th>parks</th>\n",
       "      <th>Sold</th>\n",
       "    </tr>\n",
       "  </thead>\n",
       "  <tbody>\n",
       "    <tr>\n",
       "      <th>0</th>\n",
       "      <td>32.310000</td>\n",
       "      <td>0.538000</td>\n",
       "      <td>6.575000</td>\n",
       "      <td>65.200000</td>\n",
       "      <td>4.350000</td>\n",
       "      <td>3.810000</td>\n",
       "      <td>4.180000</td>\n",
       "      <td>4.010000</td>\n",
       "      <td>24.700000</td>\n",
       "      <td>4.980000</td>\n",
       "      <td>5.480000</td>\n",
       "      <td>11.192000</td>\n",
       "      <td>23</td>\n",
       "      <td>0.049347</td>\n",
       "      <td>0</td>\n",
       "    </tr>\n",
       "    <tr>\n",
       "      <th>1</th>\n",
       "      <td>37.070000</td>\n",
       "      <td>0.469000</td>\n",
       "      <td>6.421000</td>\n",
       "      <td>78.900000</td>\n",
       "      <td>4.990000</td>\n",
       "      <td>4.700000</td>\n",
       "      <td>5.120000</td>\n",
       "      <td>5.060000</td>\n",
       "      <td>22.200000</td>\n",
       "      <td>9.140000</td>\n",
       "      <td>7.332000</td>\n",
       "      <td>12.172800</td>\n",
       "      <td>42</td>\n",
       "      <td>0.046146</td>\n",
       "      <td>1</td>\n",
       "    </tr>\n",
       "    <tr>\n",
       "      <th>2</th>\n",
       "      <td>37.070000</td>\n",
       "      <td>0.469000</td>\n",
       "      <td>7.185000</td>\n",
       "      <td>61.100000</td>\n",
       "      <td>5.030000</td>\n",
       "      <td>4.860000</td>\n",
       "      <td>5.010000</td>\n",
       "      <td>4.970000</td>\n",
       "      <td>22.200000</td>\n",
       "      <td>4.030000</td>\n",
       "      <td>7.394000</td>\n",
       "      <td>101.120000</td>\n",
       "      <td>38</td>\n",
       "      <td>0.045764</td>\n",
       "      <td>0</td>\n",
       "    </tr>\n",
       "    <tr>\n",
       "      <th>3</th>\n",
       "      <td>32.180000</td>\n",
       "      <td>0.458000</td>\n",
       "      <td>6.998000</td>\n",
       "      <td>45.800000</td>\n",
       "      <td>6.210000</td>\n",
       "      <td>5.930000</td>\n",
       "      <td>6.160000</td>\n",
       "      <td>5.960000</td>\n",
       "      <td>21.300000</td>\n",
       "      <td>2.940000</td>\n",
       "      <td>9.268000</td>\n",
       "      <td>11.267200</td>\n",
       "      <td>45</td>\n",
       "      <td>0.047151</td>\n",
       "      <td>0</td>\n",
       "    </tr>\n",
       "    <tr>\n",
       "      <th>4</th>\n",
       "      <td>32.180000</td>\n",
       "      <td>0.458000</td>\n",
       "      <td>7.147000</td>\n",
       "      <td>54.200000</td>\n",
       "      <td>6.160000</td>\n",
       "      <td>5.860000</td>\n",
       "      <td>6.370000</td>\n",
       "      <td>5.860000</td>\n",
       "      <td>21.300000</td>\n",
       "      <td>5.330000</td>\n",
       "      <td>8.824000</td>\n",
       "      <td>11.289600</td>\n",
       "      <td>55</td>\n",
       "      <td>0.039474</td>\n",
       "      <td>0</td>\n",
       "    </tr>\n",
       "  </tbody>\n",
       "</table>\n",
       "</div>"
      ],
      "text/plain": [
       "   resid_area  air_qual  room_num       age    dist1    dist2    dist3  \\\n",
       "0   32.310000  0.538000  6.575000 65.200000 4.350000 3.810000 4.180000   \n",
       "1   37.070000  0.469000  6.421000 78.900000 4.990000 4.700000 5.120000   \n",
       "2   37.070000  0.469000  7.185000 61.100000 5.030000 4.860000 5.010000   \n",
       "3   32.180000  0.458000  6.998000 45.800000 6.210000 5.930000 6.160000   \n",
       "4   32.180000  0.458000  7.147000 54.200000 6.160000 5.860000 6.370000   \n",
       "\n",
       "     dist4  teachers  poor_prop  n_hos_beds  n_hot_rooms  rainfall    parks  \\\n",
       "0 4.010000 24.700000   4.980000    5.480000    11.192000        23 0.049347   \n",
       "1 5.060000 22.200000   9.140000    7.332000    12.172800        42 0.046146   \n",
       "2 4.970000 22.200000   4.030000    7.394000   101.120000        38 0.045764   \n",
       "3 5.960000 21.300000   2.940000    9.268000    11.267200        45 0.047151   \n",
       "4 5.860000 21.300000   5.330000    8.824000    11.289600        55 0.039474   \n",
       "\n",
       "   Sold  \n",
       "0     0  \n",
       "1     1  \n",
       "2     0  \n",
       "3     0  \n",
       "4     0  "
      ]
     },
     "execution_count": 20,
     "metadata": {},
     "output_type": "execute_result"
    }
   ],
   "source": [
    "# filter the numerical features in the dataset\n",
    "# 'select_dtypes' is used to select the variables with given data type\n",
    "# 'include = [np.number]' will include all the numerical variables\n",
    "df_num = df_feature.select_dtypes(include = [np.number])\n",
    "\n",
    "# display numerical features\n",
    "df_num.head()"
   ]
  },
  {
   "cell_type": "code",
   "execution_count": 22,
   "metadata": {},
   "outputs": [
    {
     "data": {
      "text/plain": [
       "Index(['airport', 'waterbody'], dtype='object')"
      ]
     },
     "execution_count": 22,
     "metadata": {},
     "output_type": "execute_result"
    }
   ],
   "source": [
    "# filter the categorical features in the dataset\n",
    "# 'select_dtypes' is used to select the variables with given data type\n",
    "# 'include = [np.object]' will include all the categorical variables\n",
    "df_cat = df_feature.select_dtypes(include = [np.object])\n",
    "\n",
    "# display categorical features\n",
    "df_cat.columns"
   ]
  },
  {
   "cell_type": "markdown",
   "metadata": {},
   "source": [
    "The logistic regression method fails in presence of categorical variables. To overcome this we use (n-1) dummy encoding. \n",
    "\n",
    "**Encode the each categorical variable and create (n-1) dummy variables for n categories of the variable.**"
   ]
  },
  {
   "cell_type": "code",
   "execution_count": 23,
   "metadata": {},
   "outputs": [],
   "source": [
    "# use 'get_dummies' from pandas to create dummy variables\n",
    "# use 'drop_first' to create (n-1) dummy variables\n",
    "dummy_var = pd.get_dummies(data = df_cat, drop_first = True)"
   ]
  },
  {
   "cell_type": "markdown",
   "metadata": {},
   "source": [
    "<a id=\"scale\"></a>\n",
    "## 2.9 Scale the Data "
   ]
  },
  {
   "cell_type": "markdown",
   "metadata": {},
   "source": [
    "We scale the variables to get all the variables in the same range. With this, we can avoid a problem in which some features come to dominate solely because they tend to have larger values than others."
   ]
  },
  {
   "cell_type": "code",
   "execution_count": 24,
   "metadata": {},
   "outputs": [],
   "source": [
    "target = df_houseprice['Sold']"
   ]
  },
  {
   "cell_type": "code",
   "execution_count": 25,
   "metadata": {},
   "outputs": [],
   "source": [
    "# initialize the standard scalar\n",
    "X_scaler = StandardScaler()\n",
    "\n",
    "# scale all the numerical columns\n",
    "# standardize all the columns of the dataframe 'df_num'\n",
    "num_scaled = X_scaler.fit_transform(df_num)\n",
    "\n",
    "# create a dataframe of scaled numerical variables\n",
    "# pass the required column names to the parameter 'columns'\n",
    "df_num_scaled = pd.DataFrame(num_scaled, columns = df_num.columns)"
   ]
  },
  {
   "cell_type": "markdown",
   "metadata": {},
   "source": [
    "#### Concatenate scaled numerical and dummy encoded categorical variables."
   ]
  },
  {
   "cell_type": "code",
   "execution_count": 28,
   "metadata": {},
   "outputs": [
    {
     "data": {
      "text/html": [
       "<div>\n",
       "<style scoped>\n",
       "    .dataframe tbody tr th:only-of-type {\n",
       "        vertical-align: middle;\n",
       "    }\n",
       "\n",
       "    .dataframe tbody tr th {\n",
       "        vertical-align: top;\n",
       "    }\n",
       "\n",
       "    .dataframe thead th {\n",
       "        text-align: right;\n",
       "    }\n",
       "</style>\n",
       "<table border=\"1\" class=\"dataframe\">\n",
       "  <thead>\n",
       "    <tr style=\"text-align: right;\">\n",
       "      <th></th>\n",
       "      <th>resid_area</th>\n",
       "      <th>air_qual</th>\n",
       "      <th>room_num</th>\n",
       "      <th>age</th>\n",
       "      <th>dist1</th>\n",
       "      <th>dist2</th>\n",
       "      <th>dist3</th>\n",
       "      <th>dist4</th>\n",
       "      <th>teachers</th>\n",
       "      <th>poor_prop</th>\n",
       "      <th>n_hos_beds</th>\n",
       "      <th>n_hot_rooms</th>\n",
       "      <th>rainfall</th>\n",
       "      <th>parks</th>\n",
       "      <th>airport_YES</th>\n",
       "      <th>waterbody_Lake and River</th>\n",
       "      <th>waterbody_None</th>\n",
       "      <th>waterbody_River</th>\n",
       "    </tr>\n",
       "  </thead>\n",
       "  <tbody>\n",
       "    <tr>\n",
       "      <th>0</th>\n",
       "      <td>32.310000</td>\n",
       "      <td>0.538000</td>\n",
       "      <td>6.575000</td>\n",
       "      <td>65.200000</td>\n",
       "      <td>4.350000</td>\n",
       "      <td>3.810000</td>\n",
       "      <td>4.180000</td>\n",
       "      <td>4.010000</td>\n",
       "      <td>24.700000</td>\n",
       "      <td>4.980000</td>\n",
       "      <td>5.480000</td>\n",
       "      <td>11.192000</td>\n",
       "      <td>23</td>\n",
       "      <td>0.049347</td>\n",
       "      <td>1</td>\n",
       "      <td>0</td>\n",
       "      <td>0</td>\n",
       "      <td>1</td>\n",
       "    </tr>\n",
       "    <tr>\n",
       "      <th>1</th>\n",
       "      <td>37.070000</td>\n",
       "      <td>0.469000</td>\n",
       "      <td>6.421000</td>\n",
       "      <td>78.900000</td>\n",
       "      <td>4.990000</td>\n",
       "      <td>4.700000</td>\n",
       "      <td>5.120000</td>\n",
       "      <td>5.060000</td>\n",
       "      <td>22.200000</td>\n",
       "      <td>9.140000</td>\n",
       "      <td>7.332000</td>\n",
       "      <td>12.172800</td>\n",
       "      <td>42</td>\n",
       "      <td>0.046146</td>\n",
       "      <td>0</td>\n",
       "      <td>0</td>\n",
       "      <td>0</td>\n",
       "      <td>0</td>\n",
       "    </tr>\n",
       "    <tr>\n",
       "      <th>2</th>\n",
       "      <td>37.070000</td>\n",
       "      <td>0.469000</td>\n",
       "      <td>7.185000</td>\n",
       "      <td>61.100000</td>\n",
       "      <td>5.030000</td>\n",
       "      <td>4.860000</td>\n",
       "      <td>5.010000</td>\n",
       "      <td>4.970000</td>\n",
       "      <td>22.200000</td>\n",
       "      <td>4.030000</td>\n",
       "      <td>7.394000</td>\n",
       "      <td>101.120000</td>\n",
       "      <td>38</td>\n",
       "      <td>0.045764</td>\n",
       "      <td>0</td>\n",
       "      <td>0</td>\n",
       "      <td>1</td>\n",
       "      <td>0</td>\n",
       "    </tr>\n",
       "    <tr>\n",
       "      <th>3</th>\n",
       "      <td>32.180000</td>\n",
       "      <td>0.458000</td>\n",
       "      <td>6.998000</td>\n",
       "      <td>45.800000</td>\n",
       "      <td>6.210000</td>\n",
       "      <td>5.930000</td>\n",
       "      <td>6.160000</td>\n",
       "      <td>5.960000</td>\n",
       "      <td>21.300000</td>\n",
       "      <td>2.940000</td>\n",
       "      <td>9.268000</td>\n",
       "      <td>11.267200</td>\n",
       "      <td>45</td>\n",
       "      <td>0.047151</td>\n",
       "      <td>1</td>\n",
       "      <td>0</td>\n",
       "      <td>0</td>\n",
       "      <td>0</td>\n",
       "    </tr>\n",
       "    <tr>\n",
       "      <th>4</th>\n",
       "      <td>32.180000</td>\n",
       "      <td>0.458000</td>\n",
       "      <td>7.147000</td>\n",
       "      <td>54.200000</td>\n",
       "      <td>6.160000</td>\n",
       "      <td>5.860000</td>\n",
       "      <td>6.370000</td>\n",
       "      <td>5.860000</td>\n",
       "      <td>21.300000</td>\n",
       "      <td>5.330000</td>\n",
       "      <td>8.824000</td>\n",
       "      <td>11.289600</td>\n",
       "      <td>55</td>\n",
       "      <td>0.039474</td>\n",
       "      <td>0</td>\n",
       "      <td>0</td>\n",
       "      <td>0</td>\n",
       "      <td>0</td>\n",
       "    </tr>\n",
       "  </tbody>\n",
       "</table>\n",
       "</div>"
      ],
      "text/plain": [
       "   resid_area  air_qual  room_num       age    dist1    dist2    dist3  \\\n",
       "0   32.310000  0.538000  6.575000 65.200000 4.350000 3.810000 4.180000   \n",
       "1   37.070000  0.469000  6.421000 78.900000 4.990000 4.700000 5.120000   \n",
       "2   37.070000  0.469000  7.185000 61.100000 5.030000 4.860000 5.010000   \n",
       "3   32.180000  0.458000  6.998000 45.800000 6.210000 5.930000 6.160000   \n",
       "4   32.180000  0.458000  7.147000 54.200000 6.160000 5.860000 6.370000   \n",
       "\n",
       "     dist4  teachers  poor_prop  n_hos_beds  n_hot_rooms  rainfall    parks  \\\n",
       "0 4.010000 24.700000   4.980000    5.480000    11.192000        23 0.049347   \n",
       "1 5.060000 22.200000   9.140000    7.332000    12.172800        42 0.046146   \n",
       "2 4.970000 22.200000   4.030000    7.394000   101.120000        38 0.045764   \n",
       "3 5.960000 21.300000   2.940000    9.268000    11.267200        45 0.047151   \n",
       "4 5.860000 21.300000   5.330000    8.824000    11.289600        55 0.039474   \n",
       "\n",
       "   airport_YES  waterbody_Lake and River  waterbody_None  waterbody_River  \n",
       "0            1                         0               0                1  \n",
       "1            0                         0               0                0  \n",
       "2            0                         0               1                0  \n",
       "3            1                         0               0                0  \n",
       "4            0                         0               0                0  "
      ]
     },
     "execution_count": 28,
     "metadata": {},
     "output_type": "execute_result"
    }
   ],
   "source": [
    "# concat the dummy variables with numeric features to create a dataframe of all independent variables\n",
    "# 'axis=1' concats the dataframes along columns \n",
    "X = pd.concat([df_num, dummy_var], axis = 1)\n",
    "X.drop(\"Sold\",axis = 1,inplace = True)\n",
    "# display first five observations\n",
    "X.head()"
   ]
  },
  {
   "cell_type": "markdown",
   "metadata": {},
   "source": [
    "<a id=\"split\"></a>\n",
    "## 2.10 Train-Test Split"
   ]
  },
  {
   "cell_type": "markdown",
   "metadata": {},
   "source": [
    "Before applying various classification techniques to predict the admission status of the student, let us split the dataset in train and test set."
   ]
  },
  {
   "cell_type": "code",
   "execution_count": 29,
   "metadata": {},
   "outputs": [
    {
     "name": "stdout",
     "output_type": "stream",
     "text": [
      "X_train (404, 19)\n",
      "y_train (404,)\n",
      "X_test (102, 19)\n",
      "y_test (102,)\n"
     ]
    }
   ],
   "source": [
    "# add a constant column to the dataframe\n",
    "# while using the 'Logit' method in the Statsmodels library, the method do not consider the intercept by default\n",
    "# we can add the intercept to the set of independent variables using 'add_constant()'\n",
    "X = sm.add_constant(X)\n",
    "\n",
    "# split data into train subset and test subset\n",
    "# set 'random_state' to generate the same dataset each time you run the code \n",
    "# 'test_size' returns the proportion of data to be included in the testing set\n",
    "X_train, X_test, y_train, y_test = train_test_split(X, target, random_state = 10, test_size = 0.2)\n",
    "\n",
    "# check the dimensions of the train & test subset using 'shape'\n",
    "# print dimension of train set\n",
    "print('X_train', X_train.shape)\n",
    "print('y_train', y_train.shape)\n",
    "\n",
    "# print dimension of test set\n",
    "print('X_test', X_test.shape)\n",
    "print('y_test', y_test.shape)"
   ]
  },
  {
   "cell_type": "markdown",
   "metadata": {},
   "source": [
    "#### Create a generalized function to create a dataframe containing the scores for the models."
   ]
  },
  {
   "cell_type": "markdown",
   "metadata": {},
   "source": [
    "<a id=\"DT\"></a>\n",
    "# 3. Decision Tree for Classification"
   ]
  },
  {
   "cell_type": "markdown",
   "metadata": {},
   "source": [
    "Decision Tree is a non-parametric supervised learning method. It builds a model in the form of a tree structure. It breaks down a dataset into smaller and smaller subsets, which is called splitting. A decision node is a node on which a decision of split is to be made. A node that can not be split further is known as the terminal/leaf node. A leaf node represents the decision. A decision tree can work with both numerical and categorical variables.\n",
    "\n",
    "A decision tree for classification is built using criteria like the Gini index and entropy."
   ]
  },
  {
   "cell_type": "markdown",
   "metadata": {},
   "source": [
    "## Gini Index\n",
    "\n",
    "Gini index measures the probability of the sample being wrongly classified. The value of the Gini index varies between 0 and 1. We choose the variable with a low Gini index. The Gini index of the variable is calculated as:\n",
    "<p style='text-indent:28em'> <strong> $ Gini = 1 - \\sum_{i = 1}^{n}p_{i}^{2} $</strong> </p>\n",
    "\n",
    "Where,<br> \n",
    "$p_{i}$: Probability of occurrence of the class 'i'"
   ]
  },
  {
   "cell_type": "markdown",
   "metadata": {},
   "source": [
    "## Entropy\n",
    "\n",
    "Entropy is one of the criteria used to build the decision tree. It calculates the heterogeneity of the sample. The entropy is zero if the sample is completely homogeneous, and it is equal to 1 if the sample is equally divided. Entropy of the variable 'X' is calculated as:\n",
    "<p style='text-indent:28em'> <strong> $ E(X) =  -\\sum_{i = 1}^{c}p_{i}log_{2}p_{i} $</strong> </p>\n",
    "\n",
    "Where,<br> \n",
    "$p_{i}$: Probability of occurrence of the class 'i'\n",
    "\n",
    "And the conditional emtropy of the variable is given as:\n",
    "<p style='text-indent:28em'> <strong> $ E(T, X) = \\sum_{c \\epsilon X}P(c)E(c) $</strong> </p>\n",
    "\n",
    "Where,<br> \n",
    "$P(c)$: Probability of occurrence of the class 'c'<br>\n",
    "$E(c)$: Entropy of the class 'c'\n",
    "\n",
    "The information gain is the difference between the entropy of the target variable and the entropy of the target variable given an independent variable. We split the on the variable that corresponds to the highest information gain. "
   ]
  },
  {
   "cell_type": "markdown",
   "metadata": {},
   "source": [
    "#### Build a full decision tree model on a train dataset using 'entropy'."
   ]
  },
  {
   "cell_type": "code",
   "execution_count": 30,
   "metadata": {},
   "outputs": [],
   "source": [
    "# instantiate the 'DecisionTreeClassifier' object using 'entropy' criterion\n",
    "# pass the 'random_state' to obtain the same samples for each time you run the code\n",
    "decision_tree_classification = DecisionTreeClassifier(criterion = 'gini', random_state = 10)\n",
    "\n",
    "# fit the model using fit() on train data\n",
    "decision_tree = decision_tree_classification.fit(X_train, y_train)"
   ]
  },
  {
   "cell_type": "markdown",
   "metadata": {},
   "source": [
    "To visualize our decision tree we will use `Graphviz.` If you are an anaconda user then install it by using `conda install graphviz` otherwise write the command `pip install graphviz.`"
   ]
  },
  {
   "cell_type": "markdown",
   "metadata": {},
   "source": [
    "pip install graphviz"
   ]
  },
  {
   "cell_type": "code",
   "execution_count": 31,
   "metadata": {},
   "outputs": [],
   "source": [
    "import pydotplus\n",
    "from sklearn import tree\n",
    "from IPython.display import Image\n",
    "from sklearn.tree import export_graphviz"
   ]
  },
  {
   "cell_type": "code",
   "execution_count": 35,
   "metadata": {},
   "outputs": [
    {
     "data": {
      "image/png": "[encoded data removed]",
      "text/plain": [
       "<Figure size 1080x576 with 1 Axes>"
      ]
     },
     "metadata": {
      "needs_background": "light"
     },
     "output_type": "display_data"
    }
   ],
   "source": [
    "# type your code here\n",
    "decision_tree = DecisionTreeClassifier(max_leaf_nodes=6,criterion='gini')\n",
    "\n",
    "decision_tree = decision_tree.fit(X_train,y_train)\n",
    "\n",
    "labels = X_train.columns\n",
    "\n",
    "dot_data = tree.plot_tree(decision_tree,filled = True,feature_names=X_train.columns)\n",
    "#dot_data = tree.export_graphviz(decision_tree,feature_names = labels,class_names = [\"No\",\"Yes\"])\n",
    "\n",
    "#graph = pydotplus.graph_from_dot_data(dot_data)\n",
    "\n",
    "#Image(graph.create_png())"
   ]
  },
  {
   "cell_type": "markdown",
   "metadata": {},
   "source": [
    "**Calculate performance measures on the train set.**"
   ]
  },
  {
   "cell_type": "code",
   "execution_count": 36,
   "metadata": {},
   "outputs": [],
   "source": [
    "# create a generalized function to calculate the metrics values for train set\n",
    "def get_train_report(model):\n",
    "    \n",
    "    # for training set:\n",
    "    # train_pred: prediction made by the model on the train dataset 'X_train'\n",
    "    # y_train: actual values of the target variable for the train dataset\n",
    "\n",
    "    # predict the output of the target variable from the train data \n",
    "    train_pred = model.predict(X_train)\n",
    "\n",
    "    # return the performace measures on train set\n",
    "    return(classification_report(y_train, train_pred))"
   ]
  },
  {
   "cell_type": "code",
   "execution_count": 37,
   "metadata": {},
   "outputs": [
    {
     "name": "stdout",
     "output_type": "stream",
     "text": [
      "              precision    recall  f1-score   support\n",
      "\n",
      "           0       0.82      0.48      0.60       222\n",
      "           1       0.58      0.87      0.69       182\n",
      "\n",
      "    accuracy                           0.65       404\n",
      "   macro avg       0.70      0.67      0.65       404\n",
      "weighted avg       0.71      0.65      0.64       404\n",
      "\n"
     ]
    }
   ],
   "source": [
    "# compute the performance measures on train data\n",
    "# call the function 'get_train_report'\n",
    "# pass the decision tree to the function\n",
    "train_report = get_train_report(decision_tree)\n",
    "\n",
    "# print the performance measures\n",
    "print(train_report)"
   ]
  },
  {
   "cell_type": "code",
   "execution_count": 38,
   "metadata": {},
   "outputs": [],
   "source": [
    "# create a generalized function to calculate the metrics values for test set\n",
    "def get_test_report(model):\n",
    "    \n",
    "    # for test set:\n",
    "    # test_pred: prediction made by the model on the test dataset 'X_test'\n",
    "    # y_test: actual values of the target variable for the test dataset\n",
    "\n",
    "    # predict the output of the target variable from the test data \n",
    "    test_pred = model.predict(X_test)\n",
    "\n",
    "    # return the performace measures on test set\n",
    "    return(classification_report(y_test, test_pred))"
   ]
  },
  {
   "cell_type": "code",
   "execution_count": 39,
   "metadata": {},
   "outputs": [
    {
     "name": "stdout",
     "output_type": "stream",
     "text": [
      "              precision    recall  f1-score   support\n",
      "\n",
      "           0       0.53      0.43      0.47        54\n",
      "           1       0.47      0.58      0.52        48\n",
      "\n",
      "    accuracy                           0.50       102\n",
      "   macro avg       0.50      0.50      0.50       102\n",
      "weighted avg       0.51      0.50      0.50       102\n",
      "\n"
     ]
    }
   ],
   "source": [
    "# compute the performance measures on test data\n",
    "# call the function 'get_test_report'\n",
    "# pass the decision tree to the function\n",
    "test_report = get_test_report(decision_tree)\n",
    "\n",
    "# print the performance measures\n",
    "print(test_report)"
   ]
  },
  {
   "cell_type": "markdown",
   "metadata": {},
   "source": [
    "**Interpretation:** From the above output, we can see that there is a difference between the train and test accuracy; thus, we can conclude that the decision tree is over-fitted on the train data."
   ]
  },
  {
   "cell_type": "markdown",
   "metadata": {},
   "source": [
    "If we tune the hyperparameters in the decision tree, it helps to avoid the over-fitting of the tree."
   ]
  },
  {
   "cell_type": "code",
   "execution_count": 40,
   "metadata": {},
   "outputs": [
    {
     "name": "stdout",
     "output_type": "stream",
     "text": [
      "Train data:\n",
      "               precision    recall  f1-score   support\n",
      "\n",
      "           0       0.82      0.48      0.60       222\n",
      "           1       0.58      0.87      0.69       182\n",
      "\n",
      "    accuracy                           0.65       404\n",
      "   macro avg       0.70      0.67      0.65       404\n",
      "weighted avg       0.71      0.65      0.64       404\n",
      "\n",
      "Test data:\n",
      "               precision    recall  f1-score   support\n",
      "\n",
      "           0       0.53      0.43      0.47        54\n",
      "           1       0.47      0.58      0.52        48\n",
      "\n",
      "    accuracy                           0.50       102\n",
      "   macro avg       0.50      0.50      0.50       102\n",
      "weighted avg       0.51      0.50      0.50       102\n",
      "\n"
     ]
    }
   ],
   "source": [
    "# pass the criteria 'gini' to the parameter, 'criterion' \n",
    "# max_depth: that assigns maximum depth of the tree\n",
    "# min_samples_split: assigns minimum number of samples to split an internal node\n",
    "# max_leaf_nodes': assigns maximum number of leaf nodes in the tree\n",
    "# pass the 'random_state' to obtain the same samples for each time you run the code\n",
    "dt_model = DecisionTreeClassifier(criterion = 'gini',\n",
    "                                  max_depth = 5,\n",
    "                                  min_samples_split = 4,\n",
    "                                  max_leaf_nodes = 6,\n",
    "                                  random_state = 10)\n",
    "\n",
    "# fit the model using fit() on train data\n",
    "decision_tree = dt_model.fit(X_train, y_train)\n",
    "\n",
    "# compute the performance measures on train data\n",
    "# call the function 'get_train_report'\n",
    "# pass the decision tree to the function\n",
    "train_report = get_train_report(decision_tree)\n",
    "\n",
    "# print the performance measures\n",
    "print('Train data:\\n', train_report)\n",
    "\n",
    "# compute the performance measures on test data\n",
    "# call the function 'get_test_report'\n",
    "# pass the decision tree to the function\n",
    "test_report = get_test_report(decision_tree)\n",
    "\n",
    "# print the performance measures\n",
    "print('Test data:\\n', test_report)"
   ]
  },
  {
   "cell_type": "markdown",
   "metadata": {},
   "source": [
    "<a id=\"rf\"></a>\n",
    "# 4. Random Forest for Classification"
   ]
  },
  {
   "cell_type": "markdown",
   "metadata": {},
   "source": [
    "It is the method of constructing multiple decision trees on randomly selected data samples. We can use the bootstrap sampling method to select the random samples of the same size from the dataset to construct multiple trees. This method is used for both regression and classification analysis. The random forest returns the prediction based on all the individual decision trees prediction. For regression, it returns the average of all the predicted values; and for classification, it returns the class, which is the mode of all the predicted classes. \n",
    "\n",
    "It avoids the over-fitting problem as it considers a random data sample to construct a decision tree. "
   ]
  },
  {
   "cell_type": "code",
   "execution_count": 41,
   "metadata": {},
   "outputs": [],
   "source": [
    "# instantiate the 'RandomForestClassifier'\n",
    "# pass the required number of trees in the random forest to the parameter, 'n_estimators'\n",
    "# pass the 'random_state' to obtain the same samples for each time you run the code\n",
    "rf_classification = RandomForestClassifier(n_estimators = 10, random_state = 10)\n",
    "\n",
    "# use fit() to fit the model on the train set\n",
    "rf_model = rf_classification.fit(X_train, y_train)"
   ]
  },
  {
   "cell_type": "markdown",
   "metadata": {},
   "source": [
    "**Calculate performance measures on the train set.**"
   ]
  },
  {
   "cell_type": "code",
   "execution_count": 42,
   "metadata": {},
   "outputs": [
    {
     "name": "stdout",
     "output_type": "stream",
     "text": [
      "              precision    recall  f1-score   support\n",
      "\n",
      "           0       0.99      0.99      0.99       222\n",
      "           1       0.98      0.99      0.99       182\n",
      "\n",
      "    accuracy                           0.99       404\n",
      "   macro avg       0.99      0.99      0.99       404\n",
      "weighted avg       0.99      0.99      0.99       404\n",
      "\n"
     ]
    }
   ],
   "source": [
    "# compute the performance measures on train data\n",
    "# call the function 'get_train_report'\n",
    "# pass the random forest model to the function\n",
    "train_report = get_train_report(rf_model)\n",
    "\n",
    "# print the performace measures\n",
    "print(train_report) "
   ]
  },
  {
   "cell_type": "markdown",
   "metadata": {},
   "source": [
    "**Calculate performance measures on the test set.**"
   ]
  },
  {
   "cell_type": "code",
   "execution_count": 43,
   "metadata": {},
   "outputs": [
    {
     "name": "stdout",
     "output_type": "stream",
     "text": [
      "              precision    recall  f1-score   support\n",
      "\n",
      "           0       0.55      0.69      0.61        54\n",
      "           1       0.51      0.38      0.43        48\n",
      "\n",
      "    accuracy                           0.54       102\n",
      "   macro avg       0.53      0.53      0.52       102\n",
      "weighted avg       0.53      0.54      0.53       102\n",
      "\n"
     ]
    }
   ],
   "source": [
    "# compute the performance measures on test data\n",
    "# call the function 'get_test_report'\n",
    "# pass the random forest model to the function\n",
    "test_report = get_test_report(rf_model)\n",
    "\n",
    "# print the performace measures\n",
    "print(test_report) "
   ]
  },
  {
   "cell_type": "markdown",
   "metadata": {},
   "source": [
    "<a id=\"hyper_rf\"></a>\n",
    "## 4.1 Tune the Hyperparameters using GridSearchCV (Random Forest)"
   ]
  },
  {
   "cell_type": "code",
   "execution_count": 45,
   "metadata": {},
   "outputs": [
    {
     "name": "stdout",
     "output_type": "stream",
     "text": [
      "Best parameters for random forest classifier:  {'criterion': 'entropy', 'max_depth': 10, 'max_features': 'sqrt', 'max_leaf_nodes': 11, 'min_samples_leaf': 5, 'min_samples_split': 2, 'n_estimators': 30} \n",
      "\n"
     ]
    }
   ],
   "source": [
    "# create a dictionary with hyperparameters and its values\n",
    "# pass the criteria 'entropy' and 'gini' to the parameter, 'criterion' \n",
    "# pass a list of values to 'n_estimators' to build the different number of trees in the random forest\n",
    "# pass a list of values to 'max_depth' that assigns maximum depth of the tree\n",
    "# 'max_features' assigns maximum number of features to consider for the best split. We pass the string 'sqrt' and 'log2'\n",
    "# 'sqrt' considers maximum number of features equal to the square root of total features\n",
    "# 'log2' considers maximum number of features equal to the log of total features with base 2\n",
    "# pass a list of values to 'min_samples_split' that assigns minimum number of samples to split an internal node\n",
    "# pass a list of values to 'min_samples_leaf' that assigns minimum number of samples required at the terminal/leaf node\n",
    "# pass a list of values to 'max_leaf_nodes' that assigns maximum number of leaf nodes in the tree\n",
    "tuned_paramaters = [{'criterion': ['entropy', 'gini'],\n",
    "                     'n_estimators': [10, 20, 25, 30, 35],\n",
    "                     'max_depth': [10, 15, 20],\n",
    "                     'max_features': ['sqrt', 'log2'],\n",
    "                     'min_samples_split': [2, 5, 8, 11],\n",
    "                     'min_samples_leaf': [1, 5, 9],\n",
    "                     'max_leaf_nodes': [2, 5, 8, 11]}]\n",
    " \n",
    "# instantiate the 'RandomForestClassifier' \n",
    "# pass the 'random_state' to obtain the same samples for each time you run the code\n",
    "random_forest_classification = RandomForestClassifier(random_state = 10)\n",
    "\n",
    "# use GridSearchCV() to find the optimal value of the hyperparameters\n",
    "# estimator: pass the random forest classifier model\n",
    "# param_grid: pass the list 'tuned_parameters'\n",
    "# cv: number of folds in k-fold i.e. here cv = 5\n",
    "rf_grid = GridSearchCV(estimator = random_forest_classification, \n",
    "                       param_grid = tuned_paramaters, \n",
    "                       cv = 5)\n",
    "\n",
    "# use fit() to fit the model on the train set\n",
    "rf_grid_model = rf_grid.fit(X_train, y_train)\n",
    "\n",
    "# get the best parameters\n",
    "print('Best parameters for random forest classifier: ', rf_grid_model.best_params_, '\\n')"
   ]
  },
  {
   "cell_type": "markdown",
   "metadata": {},
   "source": [
    "#### Build the model using the tuned hyperparameters."
   ]
  },
  {
   "cell_type": "code",
   "execution_count": 46,
   "metadata": {},
   "outputs": [
    {
     "name": "stdout",
     "output_type": "stream",
     "text": [
      "Classification Report for test set:\n",
      "               precision    recall  f1-score   support\n",
      "\n",
      "           0       0.58      0.65      0.61        54\n",
      "           1       0.55      0.48      0.51        48\n",
      "\n",
      "    accuracy                           0.57       102\n",
      "   macro avg       0.57      0.56      0.56       102\n",
      "weighted avg       0.57      0.57      0.57       102\n",
      "\n"
     ]
    }
   ],
   "source": [
    "# instantiate the 'RandomForestClassifier'\n",
    "# 'best_params_' returns the dictionary containing best parameter values and parameter name  \n",
    "# 'get()' returns the value of specified parameter\n",
    "# pass the 'random_state' to obtain the same samples for each time you run the code\n",
    "rf_model = RandomForestClassifier(criterion = rf_grid_model.best_params_.get('criterion'), \n",
    "                                  n_estimators = rf_grid_model.best_params_.get('n_estimators'),\n",
    "                                  max_depth = rf_grid_model.best_params_.get('max_depth'),\n",
    "                                  max_features = rf_grid_model.best_params_.get('max_features'),\n",
    "                                  max_leaf_nodes = rf_grid_model.best_params_.get('max_leaf_nodes'),\n",
    "                                  min_samples_leaf = rf_grid_model.best_params_.get('min_samples_leaf'),\n",
    "                                  min_samples_split = rf_grid_model.best_params_.get('min_samples_split'),\n",
    "                                  random_state = 10)\n",
    "\n",
    "# use fit() to fit the model on the train set\n",
    "rf_model = rf_model.fit(X_train, y_train)\n",
    "\n",
    "# print the performance measures for test set for the model with best parameters\n",
    "print('Classification Report for test set:\\n', get_test_report(rf_model))"
   ]
  },
  {
   "cell_type": "markdown",
   "metadata": {},
   "source": [
    "**Interpretation:** The `accuracy` of the test dataset increased from 0.54 to 0.57 after tuning of the hyperparameters. Also, the sensitivity and specificity of the model are balanced."
   ]
  },
  {
   "cell_type": "markdown",
   "metadata": {},
   "source": [
    "### Identify the Important Features"
   ]
  },
  {
   "cell_type": "markdown",
   "metadata": {},
   "source": [
    "Let us create a barplot to identify the important feature in the dataset.\n",
    "\n",
    "The method `feature_importances_` returns the value corresponding to each feature which is defined as the ratio of total decrease in `Gini impurity` across every tree in the forest where the feature is used to the total count of trees in the forest. This is also caled as, `Gini Importance`.\n",
    "\n",
    "There is another `accuracy-based` method. It calculates the average decrease in the accuracy calculated on the out-of-bag samples, with and without shuffling the variable across all the trees in the random forest. \n",
    "The `out-of-bag` samples are the samples in the training dataset which are not considered whild building a tree."
   ]
  },
  {
   "cell_type": "code",
   "execution_count": 47,
   "metadata": {},
   "outputs": [
    {
     "data": {
      "image/png": "[encoded data removed]",
      "text/plain": [
       "<Figure size 1080x576 with 1 Axes>"
      ]
     },
     "metadata": {
      "needs_background": "light"
     },
     "output_type": "display_data"
    }
   ],
   "source": [
    "# create a dataframe that stores the feature names and their importance\n",
    "# 'feature_importances_' returns the features based on the gini importance\n",
    "important_features = pd.DataFrame({'Features': X_train.columns, \n",
    "                                   'Importance': rf_model.feature_importances_})\n",
    "\n",
    "# sort the dataframe in the descending order according to the feature importance\n",
    "important_features = important_features.sort_values('Importance', ascending = False)\n",
    "\n",
    "# create a barplot to visualize the features based on their importance\n",
    "sns.barplot(x = 'Importance', y = 'Features', data = important_features)\n",
    "\n",
    "# add plot and axes labels\n",
    "# set text size using 'fontsize'\n",
    "plt.title('Feature Importance', fontsize = 15)\n",
    "plt.xlabel('Importance', fontsize = 15)\n",
    "plt.ylabel('Features', fontsize = 15)\n",
    "\n",
    "# display the plot\n",
    "plt.show()"
   ]
  },
  {
   "cell_type": "markdown",
   "metadata": {},
   "source": [
    "**Interpretation:** From the above bar plot, we can see that `room_num` is the most important feature in the dataset."
   ]
  },
  {
   "cell_type": "code",
   "execution_count": 48,
   "metadata": {},
   "outputs": [
    {
     "name": "stdout",
     "output_type": "stream",
     "text": [
      "              precision    recall  f1-score   support\n",
      "\n",
      "           0       0.81      0.90      0.85       222\n",
      "           1       0.86      0.75      0.80       182\n",
      "\n",
      "    accuracy                           0.83       404\n",
      "   macro avg       0.84      0.82      0.83       404\n",
      "weighted avg       0.83      0.83      0.83       404\n",
      "\n"
     ]
    }
   ],
   "source": [
    "# compute the performance measures on train data\n",
    "# call the function 'get_train_report'\n",
    "# pass the random forest model to the function\n",
    "train_report = get_train_report(rf_model)\n",
    "\n",
    "# print the performace measures\n",
    "print(train_report) "
   ]
  },
  {
   "cell_type": "markdown",
   "metadata": {},
   "source": [
    "<table align=\"center\" width=100%>\n",
    "    <tr>\n",
    "        </td>\n",
    "            </td>\n",
    "        </td>\n",
    "        <td>\n",
    "            <div align=\"center\">\n",
    "                <font color=\"#21618C\" size=8px>\n",
    "                    <b> Decision Tree & Random Forest (End) <End>\n",
    "                    </b>\n",
    "                </font>\n",
    "            </div>\n",
    "        </td>\n",
    "    </tr>\n",
    "</table>"
   ]
  },
  {
   "cell_type": "markdown",
   "metadata": {},
   "source": [
    "## \"END\" New learning Begins lets explore other model and see what are there Responces"
   ]
  },
  {
   "cell_type": "code",
   "execution_count": null,
   "metadata": {},
   "outputs": [],
   "source": []
  }
 ],
 "metadata": {
  "kernelspec": {
   "display_name": "Python 3",
   "language": "python",
   "name": "python3"
  },
  "language_info": {
   "codemirror_mode": {
    "name": "ipython",
    "version": 3
   },
   "file_extension": ".py",
   "mimetype": "text/x-python",
   "name": "python",
   "nbconvert_exporter": "python",
   "pygments_lexer": "ipython3",
   "version": "3.8.5"
  }
 },
 "nbformat": 4,
 "nbformat_minor": 4
}
